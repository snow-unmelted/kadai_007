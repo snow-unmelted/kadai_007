{
  "nbformat": 4,
  "nbformat_minor": 0,
  "metadata": {
    "colab": {
      "provenance": []
    },
    "kernelspec": {
      "name": "python3",
      "display_name": "Python 3"
    },
    "language_info": {
      "name": "python"
    }
  },
  "cells": [
    {
      "cell_type": "code",
      "execution_count": null,
      "metadata": {
        "colab": {
          "base_uri": "https://localhost:8080/"
        },
        "id": "qyihd9GLosAK",
        "outputId": "d00dcbe4-8718-4e7c-b7d5-8a8458b752bd"
      },
      "outputs": [
        {
          "output_type": "stream",
          "name": "stdout",
          "text": [
            "120\n",
            "150\n",
            "{'鉛筆': 70, 'ボールペン': 120, 'シャーペン': 150, '消しゴム': 90}\n",
            "{'鉛筆': 70, 'ボールペン': 120, '消しゴム': 90}\n"
          ]
        }
      ],
      "source": [
        "#辞書を使う\n",
        "stationary_prices={\"鉛筆\":70,\"ボールペン\":120,\"シャーペン\":150,\"消しゴム\":90}\n",
        "\n",
        "#ボールペンの価格を取り出して表示\n",
        "print(stationary_prices[\"ボールペン\"])\n",
        "#シャーペンの値段を取り出して表示\n",
        "print(stationary_prices[\"シャーペン\"])\n",
        "#全体を取り出す\n",
        "print(stationary_prices)\n",
        "\n",
        "#シャープペンシルを要素ごと削除\n",
        "stationary_prices.pop(\"シャーペン\")\n",
        "#連想配列全体を取り出して表示\n",
        "print(stationary_prices)"
      ]
    },
    {
      "cell_type": "code",
      "source": [
        "user_names=[\"侍太郎\",\"侍一郎\",\"侍次郎\",\"侍三郎\",\"侍四郎\"]\n",
        "user_names[1]=\"侍花子\"\n",
        "print(user_names[1])"
      ],
      "metadata": {
        "colab": {
          "base_uri": "https://localhost:8080/"
        },
        "id": "TB4GLWiGpsbS",
        "outputId": "96d2c20d-0386-4532-ebc4-46cc8f708f05"
      },
      "execution_count": null,
      "outputs": [
        {
          "output_type": "stream",
          "name": "stdout",
          "text": [
            "侍花子\n"
          ]
        }
      ]
    },
    {
      "cell_type": "code",
      "source": [
        "sports={1:\"サッカー\",2:\"野球\",3:\"バスケット\"}\n",
        "\n",
        "#キー２の値をバトミントンに変える\n",
        "sports[2]=\"バトミントン\"\n",
        "#キー４として水泳を追加する\n",
        "sports[4]=\"水泳\"\n",
        "#連想配列全体を取り出して表示\n",
        "print(sports)"
      ],
      "metadata": {
        "colab": {
          "base_uri": "https://localhost:8080/"
        },
        "id": "AGx271JmqWCr",
        "outputId": "88c21b39-d5b4-46ec-8b6e-3f42b7da43de"
      },
      "execution_count": null,
      "outputs": [
        {
          "output_type": "stream",
          "name": "stdout",
          "text": [
            "{1: 'サッカー', 2: 'バトミントン', 3: 'バスケット', 4: '水泳'}\n"
          ]
        }
      ]
    },
    {
      "cell_type": "code",
      "source": [
        "#連想配列を作成\n",
        "personal_data={\"name\":\"侍太郎\",\"age\":36,\"gebder\":\"男性\"}\n",
        "\n",
        "#キーのnameの値を表示\n",
        "print(personal_data[\"name\"])\n",
        "#連想配列全体を表示\n",
        "print(personal_data)\n",
        "#キーageの値を更新\n",
        "personal_data[\"age\"]=37\n",
        "#新しくキーと要素を追加\n",
        "personal_data[\"address\"]=\"東京都\"\n",
        "#連想配列全体を表示\n",
        "print(personal_data)\n",
        "\n",
        "\n"
      ],
      "metadata": {
        "id": "y9F_8__zrTos",
        "colab": {
          "base_uri": "https://localhost:8080/"
        },
        "outputId": "ffb27d03-2bea-4142-9828-d6a5a462a8c0"
      },
      "execution_count": 4,
      "outputs": [
        {
          "output_type": "stream",
          "name": "stdout",
          "text": [
            "侍太郎\n",
            "{'name': '侍太郎', 'age': 36, 'gebder': '男性'}\n",
            "{'name': '侍太郎', 'age': 37, 'gebder': '男性', 'address': '東京都'}\n"
          ]
        }
      ]
    },
    {
      "cell_type": "code",
      "source": [
        "list=[\"月曜日は晴れです\",\"火曜日は雨です\",\"水曜日は晴れです\",\"木曜日は晴れです\",\"金曜日は曇りです\",\"土曜日は曇りのち雨です\",\"日曜日は雷雨です\"]\n",
        "dictionary={\"mon\":\"晴れ\",\"tue\":\"雨\",\"wed\":\"晴れ\",\"thu\":\"晴れ\",\"fri\":\"曇り\",\"sat\":\"曇りのち雨\",\"sun\":\"雷雨\"}\n",
        "\n",
        "print(list[2])\n",
        "print(dictionary[\"wed\"])"
      ],
      "metadata": {
        "colab": {
          "base_uri": "https://localhost:8080/"
        },
        "id": "AGJPv2uB4EUD",
        "outputId": "243e1c1a-e9ca-4071-e5a6-91f77e0b1eb2"
      },
      "execution_count": 10,
      "outputs": [
        {
          "output_type": "stream",
          "name": "stdout",
          "text": [
            "水曜日は晴れです\n",
            "晴れ\n"
          ]
        }
      ]
    }
  ]
}